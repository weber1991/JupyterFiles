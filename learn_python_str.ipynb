{
 "cells": [
  {
   "cell_type": "code",
   "execution_count": 1,
   "metadata": {},
   "outputs": [
    {
     "name": "stdout",
     "output_type": "stream",
     "text": [
      "4\n",
      "26\n"
     ]
    }
   ],
   "source": [
    "temp_str0 = '2019ADS-linux-L12311230987'\n",
    "print(temp_str0.count('1'))   # count是用来统计某个有多少个，可以截段来进行统计\n",
    "print(len(temp_str0))    # len()通用计算长度"
   ]
  },
  {
   "cell_type": "code",
   "execution_count": 2,
   "metadata": {},
   "outputs": [
    {
     "name": "stdout",
     "output_type": "stream",
     "text": [
      "2019--12311230987\n"
     ]
    }
   ],
   "source": [
    "def str_clean_en(input_str):\n",
    "    '''\n",
    "    清除字符串中的字母\n",
    "    '''\n",
    "    import string\n",
    "    temp_str = str(input_str)\n",
    "    out_str = ''\n",
    "    for i in temp_str:\n",
    "        # 判断字符是否存在ascii字母表里面，如果没有，代表非字母\n",
    "        if i not in string.ascii_letters:\n",
    "            out_str += i\n",
    "    return out_str\n",
    "\n",
    "print(str_clean_en(temp_str0))"
   ]
  },
  {
   "cell_type": "code",
   "execution_count": 22,
   "metadata": {},
   "outputs": [
    {
     "name": "stdout",
     "output_type": "stream",
     "text": [
      "hel**lo\n"
     ]
    }
   ],
   "source": [
    "def str_insert_char(insert_str, insert_index, insert_content):\n",
    "    '''\n",
    "    insert_str:被插入的字符串\n",
    "    insert_index:插入字符出的位置\n",
    "    insert_content:需要插入的内容\n",
    "    备注:字符串初始位置从0开始，srt[0:x],x并不读取;\n",
    "    '''\n",
    "    temp_str = str(insert_str)\n",
    "    out_str = temp_str[0:insert_index] + str(insert_content) + temp_str[insert_index:]\n",
    "    return out_str\n",
    "\n",
    "print(str_insert_char('hello', 3, '**'))"
   ]
  },
  {
   "cell_type": "code",
   "execution_count": null,
   "metadata": {},
   "outputs": [],
   "source": []
  }
 ],
 "metadata": {
  "kernelspec": {
   "display_name": "Python 3",
   "language": "python",
   "name": "python3"
  },
  "language_info": {
   "codemirror_mode": {
    "name": "ipython",
    "version": 3
   },
   "file_extension": ".py",
   "mimetype": "text/x-python",
   "name": "python",
   "nbconvert_exporter": "python",
   "pygments_lexer": "ipython3",
   "version": "3.7.1"
  }
 },
 "nbformat": 4,
 "nbformat_minor": 2
}
