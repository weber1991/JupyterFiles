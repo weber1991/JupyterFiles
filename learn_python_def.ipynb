{
 "cells": [
  {
   "cell_type": "code",
   "execution_count": 1,
   "metadata": {},
   "outputs": [
    {
     "name": "stdout",
     "output_type": "stream",
     "text": [
      "['end']\n",
      "['end', 'end']\n",
      "['end']\n",
      "['end']\n"
     ]
    }
   ],
   "source": [
    "#-*- coding:utf-8 -*-\n",
    "\n",
    "\n",
    "'''\n",
    "函数定义时候对默认参数的注意事项\n",
    "'''\n",
    "\n",
    "def add_end(L = []):\n",
    "    L.append('end')\n",
    "    return L\n",
    "\n",
    "\n",
    "print(add_end())    # 结果为end\n",
    "print(add_end())    # 结果为end，end\n",
    "\n",
    "# 原因：函数在定义时候，L = [] 就已经被设计出来，在内存里面，所以每次调用就自然改变L的内容\n",
    "\n",
    "# 正确做法就是用none，使用不变参数的好处就是在调用过程中不会被修改\n",
    "def add_end_1(L = None):\n",
    "    if L is None:\n",
    "        L = []\n",
    "    L.append('end')\n",
    "    return L\n",
    "\n",
    "\n",
    "print(add_end_1())\n",
    "print(add_end_1())"
   ]
  },
  {
   "cell_type": "code",
   "execution_count": null,
   "metadata": {},
   "outputs": [],
   "source": []
  }
 ],
 "metadata": {
  "kernelspec": {
   "display_name": "Python 3",
   "language": "python",
   "name": "python3"
  },
  "language_info": {
   "codemirror_mode": {
    "name": "ipython",
    "version": 3
   },
   "file_extension": ".py",
   "mimetype": "text/x-python",
   "name": "python",
   "nbconvert_exporter": "python",
   "pygments_lexer": "ipython3",
   "version": "3.7.1"
  }
 },
 "nbformat": 4,
 "nbformat_minor": 2
}
