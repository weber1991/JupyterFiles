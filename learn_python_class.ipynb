{
 "cells": [
  {
   "cell_type": "code",
   "execution_count": 2,
   "metadata": {},
   "outputs": [
    {
     "name": "stdout",
     "output_type": "stream",
     "text": [
      "bbbbb\n",
      "bbbbb\n",
      "ccccc\n",
      "ccccc\n"
     ]
    }
   ],
   "source": [
    "# python里面的多态（并非真正意义上的多态，python不存在的。）\n",
    "\n",
    "class a(object):\n",
    "    def run(self):\n",
    "        print(\"aaaaa\")\n",
    "        \n",
    "        \n",
    "class b(object):\n",
    "    def run(self):\n",
    "        print(\"bbbbb\")\n",
    "        \n",
    "class c(object):\n",
    "    def run(self):\n",
    "        print(\"ccccc\")\n",
    "        \n",
    "def run_twice(a):\n",
    "    a.run()\n",
    "    a.run()\n",
    "    \n",
    "bb = b()\n",
    "cc = c()\n",
    "    \n",
    "run_twice(bb)\n",
    "run_twice(cc)"
   ]
  },
  {
   "cell_type": "code",
   "execution_count": null,
   "metadata": {},
   "outputs": [],
   "source": []
  }
 ],
 "metadata": {
  "kernelspec": {
   "display_name": "Python 3",
   "language": "python",
   "name": "python3"
  },
  "language_info": {
   "codemirror_mode": {
    "name": "ipython",
    "version": 3
   },
   "file_extension": ".py",
   "mimetype": "text/x-python",
   "name": "python",
   "nbconvert_exporter": "python",
   "pygments_lexer": "ipython3",
   "version": "3.7.3"
  }
 },
 "nbformat": 4,
 "nbformat_minor": 2
}
