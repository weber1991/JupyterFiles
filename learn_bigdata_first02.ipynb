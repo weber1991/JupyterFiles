{
 "cells": [
  {
   "cell_type": "code",
   "execution_count": 1,
   "metadata": {},
   "outputs": [
    {
     "data": {
      "text/plain": [
       "'\\n循环的使用：while 和 for\\n循环的控制：break 和 continue\\n'"
      ]
     },
     "execution_count": 1,
     "metadata": {},
     "output_type": "execute_result"
    }
   ],
   "source": [
    "'''\n",
    "循环的使用：while 和 for\n",
    "循环的控制：break 和 continue\n",
    "'''"
   ]
  },
  {
   "cell_type": "code",
   "execution_count": 7,
   "metadata": {},
   "outputs": [
    {
     "name": "stdout",
     "output_type": "stream",
     "text": [
      "['__doc__', '__loader__', '__name__', '__package__', '__spec__', 'acos', 'acosh', 'asin', 'asinh', 'atan', 'atan2', 'atanh', 'ceil', 'copysign', 'cos', 'cosh', 'degrees', 'e', 'erf', 'erfc', 'exp', 'expm1', 'fabs', 'factorial', 'floor', 'fmod', 'frexp', 'fsum', 'gamma', 'gcd', 'hypot', 'inf', 'isclose', 'isfinite', 'isinf', 'isnan', 'ldexp', 'lgamma', 'log', 'log10', 'log1p', 'log2', 'modf', 'nan', 'pi', 'pow', 'radians', 'remainder', 'sin', 'sinh', 'sqrt', 'tan', 'tanh', 'tau', 'trunc']\n",
      "3.141592653589793\n",
      "3\n"
     ]
    }
   ],
   "source": [
    "'''\n",
    "常用模块\n",
    "'''\n",
    "# math模块\n",
    "import math\n",
    "\n",
    "print(dir(math)) # 返回属性，方法等\n",
    "print(math.pi)\n",
    "print(math.floor(3.9)) # 向上取整"
   ]
  },
  {
   "cell_type": "code",
   "execution_count": 11,
   "metadata": {},
   "outputs": [
    {
     "name": "stdout",
     "output_type": "stream",
     "text": [
      "1573133985.601439\n",
      "time.struct_time(tm_year=2019, tm_mon=11, tm_mday=7, tm_hour=21, tm_min=39, tm_sec=45, tm_wday=3, tm_yday=311, tm_isdst=0)\n",
      "2019 11\n"
     ]
    }
   ],
   "source": [
    "# time 模块\n",
    "import time\n",
    "now =  time.time()\n",
    "local_now  = time.localtime(now)\n",
    "print(now) # 距离计算机元年（1970）的时间戳， 时间戳是一个精确到毫秒的数值，所以可以结合生成唯一数\n",
    "print(local_now)  # 本地时间\n",
    "print(time.strftime(\"%Y %m\",local_now )) # *格式化输出\n"
   ]
  },
  {
   "cell_type": "code",
   "execution_count": 19,
   "metadata": {},
   "outputs": [
    {
     "name": "stdout",
     "output_type": "stream",
     "text": [
      "在人间活着，谁不像一场炼狱\n"
     ]
    }
   ],
   "source": [
    "'''\n",
    "文件操作（文本文件，二进制文件）\n",
    "掌握：读文件；写文件；\n",
    "步骤：打开文件--读/写文件--关闭文件\n",
    "'''\n",
    "# win和mac的编码是不同的。所以要注明使用encoding\n",
    "# 读模式，才有read（）\n",
    "myfile = open('test_file.txt', 'r', encoding='utf-8') \n",
    "\n",
    "myfile_content = myfile.read()\n",
    "print(myfile_content)\n",
    "myfile.close()   # 必须关闭\n",
    "\n",
    "# 写入模式 会覆盖原本内容\n",
    "# 默认是用utf-8形式\n",
    "myfile = open('test_file.txt', 'w', encoding='utf-8') \n",
    "myfile.write(\"在人间\")\n",
    "myfile.close()\n",
    "\n",
    "# 追加模式\n",
    "myfile = open('test_file.txt', 'a', encoding='utf-8')\n",
    "myfile.write(\"活着，谁不像一场炼狱\")\n",
    "myfile.close()\n"
   ]
  }
 ],
 "metadata": {
  "kernelspec": {
   "display_name": "Python 3",
   "language": "python",
   "name": "python3"
  },
  "language_info": {
   "codemirror_mode": {
    "name": "ipython",
    "version": 3
   },
   "file_extension": ".py",
   "mimetype": "text/x-python",
   "name": "python",
   "nbconvert_exporter": "python",
   "pygments_lexer": "ipython3",
   "version": "3.7.3"
  }
 },
 "nbformat": 4,
 "nbformat_minor": 2
}
