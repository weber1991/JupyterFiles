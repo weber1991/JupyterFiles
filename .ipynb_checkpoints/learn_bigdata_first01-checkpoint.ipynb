{
 "cells": [
  {
   "cell_type": "code",
   "execution_count": 18,
   "metadata": {},
   "outputs": [],
   "source": [
    "'''\n",
    "python的变量类型\n",
    "'''\n",
    "int_01 = 1321\n",
    "str_01 = '10086'\n",
    "str_02 = '10086.123'\n",
    "float_01 = 1234.5678"
   ]
  },
  {
   "cell_type": "code",
   "execution_count": 19,
   "metadata": {},
   "outputs": [
    {
     "name": "stdout",
     "output_type": "stream",
     "text": [
      "1321.0\n",
      "10086\n",
      "10086.123\n",
      "1234.57\n"
     ]
    }
   ],
   "source": [
    "'''变量的转换'''\n",
    "print(float(int_01))\n",
    "print(int(str_01))\n",
    "print(float(str_02))\n",
    "print(round(float_01,2))  # 字符型保留小数个数，可用round方法"
   ]
  },
  {
   "cell_type": "code",
   "execution_count": 20,
   "metadata": {},
   "outputs": [
    {
     "name": "stdout",
     "output_type": "stream",
     "text": [
      "格式化输出：10086， 1321，10086.1230\n"
     ]
    }
   ],
   "source": [
    "'''\n",
    "格式化输出\n",
    "%s：字符串\n",
    "%d：int类型\n",
    "%f：浮点型\n",
    "%x：16进制数据\n",
    "'''\n",
    "\n",
    "print(\"格式化输出：%s， %d，%.4f\"%(str_01, int_01, float(str_02)))"
   ]
  },
  {
   "cell_type": "code",
   "execution_count": 23,
   "metadata": {},
   "outputs": [
    {
     "name": "stdout",
     "output_type": "stream",
     "text": [
      "12346\n",
      "<class 'str'>\n"
     ]
    }
   ],
   "source": [
    "'''\n",
    "input:接受到的数据都默认为字符型\n",
    "'''\n",
    "temp_input = input()\n",
    "print(type(temp_input))"
   ]
  },
  {
   "cell_type": "code",
   "execution_count": 24,
   "metadata": {},
   "outputs": [
    {
     "name": "stdout",
     "output_type": "stream",
     "text": [
      "1745041\n"
     ]
    }
   ],
   "source": [
    "'''\n",
    "运算符以及优先级\n",
    "特别注意：**，指数运算,优先级最高；使用括号来实现想要的优先级；\n",
    "'''\n",
    "print(int_01**2)"
   ]
  },
  {
   "cell_type": "code",
   "execution_count": 25,
   "metadata": {},
   "outputs": [
    {
     "name": "stdout",
     "output_type": "stream",
     "text": [
      "1\n",
      "3\n",
      "4\n",
      "5\n"
     ]
    }
   ],
   "source": [
    "# 顺序执行\n",
    "# 选择执行\n",
    "# 循环执行\n",
    "# print(1)\n",
    "# print(2)\n",
    "# print(3)\n",
    "# 1-5\n",
    "\n",
    "# 死循环\n",
    "# num = 1\n",
    "# while num <= 5:\n",
    "#     print(num)\n",
    "\n",
    "# num = 1\n",
    "# while num <= 5: # true\n",
    "#     num += 1    # 2\n",
    "#     print(num)\n",
    "\n",
    "# print('end')\n",
    "\n",
    "# 注意： 循环的时候必须有结束条件\n",
    "    \n",
    "# for 循环\n",
    "# for 变量名 in 条件：\n",
    "#     执行语句\n",
    "\n",
    "# 产生一个范围内的数据(特点， 包含起始， 不包含该结束)\n",
    "# range(起始，结束，步长) 12345  135   步长 默认为1\n",
    "# print(list(range(1,6,2)))   \n",
    "\n",
    "# for in 产生1-5\n",
    "for value in range(1,6): \n",
    "    if value == 2:\n",
    "        continue\n",
    "#         break\n",
    "    print(value)"
   ]
  },
  {
   "cell_type": "code",
   "execution_count": null,
   "metadata": {},
   "outputs": [],
   "source": []
  }
 ],
 "metadata": {
  "kernelspec": {
   "display_name": "Python 3",
   "language": "python",
   "name": "python3"
  },
  "language_info": {
   "codemirror_mode": {
    "name": "ipython",
    "version": 3
   },
   "file_extension": ".py",
   "mimetype": "text/x-python",
   "name": "python",
   "nbconvert_exporter": "python",
   "pygments_lexer": "ipython3",
   "version": "3.7.3"
  }
 },
 "nbformat": 4,
 "nbformat_minor": 2
}
