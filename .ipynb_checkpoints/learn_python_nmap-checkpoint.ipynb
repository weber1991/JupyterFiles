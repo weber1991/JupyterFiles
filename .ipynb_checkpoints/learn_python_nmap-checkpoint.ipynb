{
 "cells": [
  {
   "cell_type": "code",
   "execution_count": null,
   "metadata": {},
   "outputs": [],
   "source": [
    "'''\n",
    "1、使用python-nmap扫描\n",
    "2、输入相应结果\n",
    "'''\n",
    "import nmap\n",
    "\n",
    "HOST = '192.168.3.1'\n",
    "ARGU = '-A'\n",
    "nm = nmap.PortScanner()\n",
    "result = nm.scan(hosts=HOST, arguments=ARGU)\n",
    "print(result['nmap']['command_line'])"
   ]
  }
 ],
 "metadata": {
  "kernelspec": {
   "display_name": "Python 3",
   "language": "python",
   "name": "python3"
  },
  "language_info": {
   "codemirror_mode": {
    "name": "ipython",
    "version": 3
   },
   "file_extension": ".py",
   "mimetype": "text/x-python",
   "name": "python",
   "nbconvert_exporter": "python",
   "pygments_lexer": "ipython3",
   "version": "3.7.1"
  }
 },
 "nbformat": 4,
 "nbformat_minor": 2
}
