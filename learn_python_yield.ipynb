{
 "cells": [
  {
   "cell_type": "code",
   "execution_count": 1,
   "metadata": {},
   "outputs": [
    {
     "name": "stdout",
     "output_type": "stream",
     "text": [
      "first\n",
      "1\n",
      "second\n",
      "2\n",
      "third\n",
      "3\n"
     ]
    }
   ],
   "source": [
    "'''\n",
    "what: use yield\n",
    "when: 20181224\n",
    "who: weber\n",
    "'''\n",
    "\n",
    "\n",
    "def demoIterator():\n",
    "    # 使用yield生产的迭代器也叫生成器\n",
    "    print(\"first\")\n",
    "    yield 1\n",
    "    print(\"second\")\n",
    "    yield 2\n",
    "    print(\"third\")\n",
    "    yield 3\n",
    "\n",
    "\n",
    "for i in demoIterator():\n",
    "    print(i)\n"
   ]
  },
  {
   "cell_type": "code",
   "execution_count": null,
   "metadata": {},
   "outputs": [],
   "source": []
  }
 ],
 "metadata": {
  "kernelspec": {
   "display_name": "Python 3",
   "language": "python",
   "name": "python3"
  },
  "language_info": {
   "codemirror_mode": {
    "name": "ipython",
    "version": 3
   },
   "file_extension": ".py",
   "mimetype": "text/x-python",
   "name": "python",
   "nbconvert_exporter": "python",
   "pygments_lexer": "ipython3",
   "version": "3.7.1"
  }
 },
 "nbformat": 4,
 "nbformat_minor": 2
}
