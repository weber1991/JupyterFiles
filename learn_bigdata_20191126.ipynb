{
 "cells": [
  {
   "cell_type": "code",
   "execution_count": 1,
   "metadata": {},
   "outputs": [],
   "source": [
    "k = 0\n",
    "for i in range(100, -105, -5):\n",
    "    k += i\n",
    "print(k)"
   ]
  },
  {
   "cell_type": "code",
   "execution_count": 2,
   "metadata": {},
   "outputs": [
    {
     "name": "stdout",
     "output_type": "stream",
     "text": [
      "输入一个整数：8\n",
      "能否被2整除\n"
     ]
    }
   ],
   "source": [
    "'''\n",
    "输入整数，判断能否同时被2和3整除，能否被2整除，能否被3整除，不能被2和3整除\n",
    "'''\n",
    "count = int(input(\"输入一个整数：\"))\n",
    "if (count%2==0) and (count%3==0):\n",
    "    print(\"被2和3整除\")\n",
    "elif count%2 == 0:\n",
    "    print('能否被2整除')\n",
    "elif count%3 == 0:\n",
    "    print('能否被3整除')\n",
    "else:\n",
    "    print(\"不能被2和3整除\")"
   ]
  },
  {
   "cell_type": "code",
   "execution_count": 3,
   "metadata": {},
   "outputs": [
    {
     "name": "stdout",
     "output_type": "stream",
     "text": [
      "输入一个年份2019\n",
      "平年\n",
      "输入一个年份1998\n",
      "平年\n",
      "输入一个年份2000\n",
      "闰年\n"
     ]
    }
   ],
   "source": [
    "'''\n",
    "输入一个年份，判断是否为闰年，循环3次。\n",
    "'''\n",
    "for i in range(1,4):\n",
    "    year = int(input(\"输入一个年份\"))\n",
    "    if (year%4==0)and(year%100 !=0):\n",
    "        print(\"闰年\")\n",
    "    elif (year%100==0)and(year%400==0):\n",
    "        print(\"闰年\")\n",
    "    else:\n",
    "        print(\"平年\")"
   ]
  }
 ],
 "metadata": {
  "kernelspec": {
   "display_name": "Python 3",
   "language": "python",
   "name": "python3"
  },
  "language_info": {
   "codemirror_mode": {
    "name": "ipython",
    "version": 3
   },
   "file_extension": ".py",
   "mimetype": "text/x-python",
   "name": "python",
   "nbconvert_exporter": "python",
   "pygments_lexer": "ipython3",
   "version": "3.7.3"
  }
 },
 "nbformat": 4,
 "nbformat_minor": 2
}
